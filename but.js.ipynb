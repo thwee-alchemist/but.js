{
 "cells": [
  {
   "cell_type": "markdown",
   "metadata": {},
   "source": [
    "# but.js"
   ]
  },
  {
   "cell_type": "markdown",
   "metadata": {},
   "source": [
    "Perfect for when you're trying to change just some properties in an object, but all at once, and without changing the original object. "
   ]
  },
  {
   "cell_type": "markdown",
   "metadata": {},
   "source": [
    "*I want this object, but with these properties.*"
   ]
  },
  {
   "cell_type": "code",
   "execution_count": 1,
   "metadata": {},
   "outputs": [
    {
     "data": {
      "text/plain": [
       "[Function]"
      ]
     },
     "execution_count": 1,
     "metadata": {},
     "output_type": "execute_result"
    }
   ],
   "source": [
    "Object.prototype.but = function(exceptions){\n",
    "  return Object.assign({}, this, exceptions);\n",
    "};"
   ]
  },
  {
   "cell_type": "code",
   "execution_count": 2,
   "metadata": {},
   "outputs": [],
   "source": [
    "var apple = {\n",
    "  type: 'fruit',\n",
    "  shape: 'round',\n",
    "  yummy: 'depends',\n",
    "  nutritious: 'sure',\n",
    "  liquid: 'somewhat'\n",
    "};\n",
    "\n",
    "var pear = apple.but({shape: 'pear-shaped', yummy: 'always'})"
   ]
  },
  {
   "cell_type": "code",
   "execution_count": 3,
   "metadata": {},
   "outputs": [
    {
     "data": {
      "text/plain": [
       "{ type: 'fruit',\n",
       "  shape: 'round',\n",
       "  yummy: 'depends',\n",
       "  nutritious: 'sure',\n",
       "  liquid: 'somewhat' }"
      ]
     },
     "execution_count": 3,
     "metadata": {},
     "output_type": "execute_result"
    }
   ],
   "source": [
    "apple"
   ]
  },
  {
   "cell_type": "code",
   "execution_count": 4,
   "metadata": {},
   "outputs": [
    {
     "data": {
      "text/plain": [
       "{ type: 'fruit',\n",
       "  shape: 'pear-shaped',\n",
       "  yummy: 'always',\n",
       "  nutritious: 'sure',\n",
       "  liquid: 'somewhat' }"
      ]
     },
     "execution_count": 4,
     "metadata": {},
     "output_type": "execute_result"
    }
   ],
   "source": [
    "pear"
   ]
  },
  {
   "cell_type": "markdown",
   "metadata": {},
   "source": [
    "joshua.moore@leudla.net\n",
    "May 1st, 2019"
   ]
  }
 ],
 "metadata": {
  "kernelspec": {
   "display_name": "Javascript (Node.js)",
   "language": "javascript",
   "name": "javascript"
  },
  "language_info": {
   "file_extension": ".js",
   "mimetype": "application/javascript",
   "name": "javascript",
   "version": "6.16.0"
  }
 },
 "nbformat": 4,
 "nbformat_minor": 2
}
